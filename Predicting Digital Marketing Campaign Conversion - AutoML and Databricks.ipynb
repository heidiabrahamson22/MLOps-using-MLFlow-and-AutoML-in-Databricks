{
 "cells": [
  {
   "cell_type": "code",
   "execution_count": null,
   "metadata": {
    "application/vnd.databricks.v1+cell": {
     "cellMetadata": {
      "byteLimit": 2048000,
      "rowLimit": 10000
     },
     "inputWidgets": {},
     "nuid": "47432825-7df1-451f-9fa8-af605aeaa69a",
     "showTitle": false,
     "tableResultSettingsMap": {},
     "title": ""
    }
   },
   "outputs": [],
   "source": [
    "# PySpark imports\n",
    "from pyspark.sql import SparkSession\n",
    "from pyspark.sql.functions import col, count, lit, avg\n",
    "from pyspark.ml.feature import StringIndexer, VectorAssembler\n",
    "from pyspark.ml import Pipeline\n",
    "from pyspark.ml.stat import Correlation, ChiSquareTest\n",
    "from pyspark.ml.linalg import Vectors\n",
    "\n",
    "# Data manipulation & visualization\n",
    "import pandas as pd\n",
    "import numpy as np\n",
    "import matplotlib.pyplot as plt\n",
    "import seaborn as sns\n",
    "\n",
    "# Scikit-learn and imbalanced-learn\n",
    "from sklearn.model_selection import RandomizedSearchCV\n",
    "from sklearn.metrics import confusion_matrix, ConfusionMatrixDisplay, make_scorer, f1_score\n",
    "from imblearn.combine import SMOTEENN\n",
    "from imblearn.pipeline import Pipeline as ImbPipeline\n",
    "\n",
    "# ML libraries\n",
    "from lightgbm import LGBMClassifier\n",
    "\n",
    "# Statistical tests\n",
    "from scipy.stats import chi2_contingency, kruskal\n",
    "\n",
    "# Experiment tracking\n",
    "import mlflow\n",
    "\n",
    "# Databricks AutoML\n",
    "from databricks import automl"
   ]
  },
  {
   "cell_type": "markdown",
   "metadata": {
    "application/vnd.databricks.v1+cell": {
     "cellMetadata": {
      "byteLimit": 2048000,
      "rowLimit": 10000
     },
     "inputWidgets": {},
     "nuid": "2a564f5a-5ac3-4da3-ae76-66595dfa5e15",
     "showTitle": false,
     "tableResultSettingsMap": {},
     "title": ""
    }
   },
   "source": [
    "**EDA**"
   ]
  },
  {
   "cell_type": "code",
   "execution_count": null,
   "metadata": {
    "application/vnd.databricks.v1+cell": {
     "cellMetadata": {
      "byteLimit": 2048000,
      "rowLimit": 10000
     },
     "inputWidgets": {},
     "nuid": "5012ff13-12b6-4e60-b889-29c4b9474e48",
     "showTitle": false,
     "tableResultSettingsMap": {},
     "title": ""
    }
   },
   "outputs": [],
   "source": [
    "df = spark.table(\"hive_metastore.default.digital_marketing_campaign_dataset_csv\")"
   ]
  },
  {
   "cell_type": "code",
   "execution_count": 0,
   "metadata": {
    "application/vnd.databricks.v1+cell": {
     "cellMetadata": {
      "byteLimit": 2048000,
      "rowLimit": 10000
     },
     "inputWidgets": {},
     "nuid": "dbfca8dc-e7ae-4f28-9169-34744516e87b",
     "showTitle": false,
     "tableResultSettingsMap": {},
     "title": ""
    },
    "scrolled": true
   },
   "outputs": [
    {
     "data": {
      "text/html": [
       "<style scoped>\n",
       "  .table-result-container {\n",
       "    max-height: 300px;\n",
       "    overflow: auto;\n",
       "  }\n",
       "  table, th, td {\n",
       "    border: 1px solid black;\n",
       "    border-collapse: collapse;\n",
       "  }\n",
       "  th, td {\n",
       "    padding: 5px;\n",
       "  }\n",
       "  th {\n",
       "    text-align: left;\n",
       "  }\n",
       "</style><div class='table-result-container'><table class='table-result'><thead style='background-color: white'><tr><th>CustomerID</th><th>Age</th><th>Gender</th><th>Income</th><th>CampaignChannel</th><th>CampaignType</th><th>AdSpend</th><th>ClickThroughRate</th><th>ConversionRate</th><th>WebsiteVisits</th><th>PagesPerVisit</th><th>TimeOnSite</th><th>SocialShares</th><th>EmailOpens</th><th>EmailClicks</th><th>PreviousPurchases</th><th>LoyaltyPoints</th><th>AdvertisingPlatform</th><th>AdvertisingTool</th><th>Conversion</th></tr></thead><tbody><tr><td>8000</td><td>56</td><td>Female</td><td>136912.0</td><td>Social Media</td><td>Awareness</td><td>6497.87</td><td>0.04391851</td><td>0.08803141</td><td>0</td><td>2.3990166</td><td>7.3968024</td><td>19</td><td>6</td><td>9</td><td>4</td><td>688</td><td>IsConfid</td><td>ToolConfid</td><td>true</td></tr><tr><td>8001</td><td>69</td><td>Male</td><td>41760.0</td><td>Email</td><td>Retention</td><td>3898.6687</td><td>0.15572508</td><td>0.18272468</td><td>42</td><td>2.9171379</td><td>5.3525486</td><td>5</td><td>2</td><td>7</td><td>2</td><td>3459</td><td>IsConfid</td><td>ToolConfid</td><td>true</td></tr><tr><td>8002</td><td>46</td><td>Female</td><td>88456.0</td><td>PPC</td><td>Awareness</td><td>1546.4296</td><td>0.27749038</td><td>0.07642272</td><td>2</td><td>8.223619</td><td>13.794902</td><td>0</td><td>11</td><td>2</td><td>8</td><td>2337</td><td>IsConfid</td><td>ToolConfid</td><td>true</td></tr><tr><td>8003</td><td>32</td><td>Female</td><td>44085.0</td><td>PPC</td><td>Conversion</td><td>539.52594</td><td>0.13761126</td><td>0.08800419</td><td>47</td><td>4.540939</td><td>14.688363</td><td>89</td><td>2</td><td>2</td><td>0</td><td>2463</td><td>IsConfid</td><td>ToolConfid</td><td>true</td></tr><tr><td>8004</td><td>60</td><td>Female</td><td>83964.0</td><td>PPC</td><td>Conversion</td><td>1678.0436</td><td>0.2528511</td><td>0.109940104</td><td>0</td><td>2.046847</td><td>13.99337</td><td>6</td><td>6</td><td>6</td><td>8</td><td>4345</td><td>IsConfid</td><td>ToolConfid</td><td>true</td></tr></tbody></table></div>"
      ]
     },
     "metadata": {
      "application/vnd.databricks.v1+output": {
       "addedWidgets": {},
       "aggData": [],
       "aggError": "",
       "aggOverflow": false,
       "aggSchema": [],
       "aggSeriesLimitReached": false,
       "aggType": "",
       "arguments": {},
       "columnCustomDisplayInfos": {},
       "data": [
        [
         "8000",
         56,
         "Female",
         136912,
         "Social Media",
         "Awareness",
         6497.87,
         0.04391851,
         0.08803141,
         0,
         2.3990166,
         7.3968024,
         19,
         6,
         9,
         4,
         688,
         "IsConfid",
         "ToolConfid",
         true
        ],
        [
         "8001",
         69,
         "Male",
         41760,
         "Email",
         "Retention",
         3898.6687,
         0.15572508,
         0.18272468,
         42,
         2.9171379,
         5.3525486,
         5,
         2,
         7,
         2,
         3459,
         "IsConfid",
         "ToolConfid",
         true
        ],
        [
         "8002",
         46,
         "Female",
         88456,
         "PPC",
         "Awareness",
         1546.4296,
         0.27749038,
         0.07642272,
         2,
         8.223619,
         13.794902,
         0,
         11,
         2,
         8,
         2337,
         "IsConfid",
         "ToolConfid",
         true
        ],
        [
         "8003",
         32,
         "Female",
         44085,
         "PPC",
         "Conversion",
         539.52594,
         0.13761126,
         0.08800419,
         47,
         4.540939,
         14.688363,
         89,
         2,
         2,
         0,
         2463,
         "IsConfid",
         "ToolConfid",
         true
        ],
        [
         "8004",
         60,
         "Female",
         83964,
         "PPC",
         "Conversion",
         1678.0436,
         0.2528511,
         0.109940104,
         0,
         2.046847,
         13.99337,
         6,
         6,
         6,
         8,
         4345,
         "IsConfid",
         "ToolConfid",
         true
        ]
       ],
       "datasetInfos": [],
       "dbfsResultPath": null,
       "isJsonSchema": true,
       "metadata": {},
       "overflow": false,
       "plotOptions": {
        "customPlotOptions": {},
        "displayType": "table",
        "pivotAggregation": null,
        "pivotColumns": null,
        "xColumns": null,
        "yColumns": null
       },
       "removedWidgets": [],
       "schema": [
        {
         "metadata": "{}",
         "name": "CustomerID",
         "type": "\"string\""
        },
        {
         "metadata": "{}",
         "name": "Age",
         "type": "\"integer\""
        },
        {
         "metadata": "{}",
         "name": "Gender",
         "type": "\"string\""
        },
        {
         "metadata": "{}",
         "name": "Income",
         "type": "\"float\""
        },
        {
         "metadata": "{}",
         "name": "CampaignChannel",
         "type": "\"string\""
        },
        {
         "metadata": "{}",
         "name": "CampaignType",
         "type": "\"string\""
        },
        {
         "metadata": "{}",
         "name": "AdSpend",
         "type": "\"float\""
        },
        {
         "metadata": "{}",
         "name": "ClickThroughRate",
         "type": "\"float\""
        },
        {
         "metadata": "{}",
         "name": "ConversionRate",
         "type": "\"float\""
        },
        {
         "metadata": "{}",
         "name": "WebsiteVisits",
         "type": "\"integer\""
        },
        {
         "metadata": "{}",
         "name": "PagesPerVisit",
         "type": "\"float\""
        },
        {
         "metadata": "{}",
         "name": "TimeOnSite",
         "type": "\"float\""
        },
        {
         "metadata": "{}",
         "name": "SocialShares",
         "type": "\"integer\""
        },
        {
         "metadata": "{}",
         "name": "EmailOpens",
         "type": "\"integer\""
        },
        {
         "metadata": "{}",
         "name": "EmailClicks",
         "type": "\"integer\""
        },
        {
         "metadata": "{}",
         "name": "PreviousPurchases",
         "type": "\"integer\""
        },
        {
         "metadata": "{}",
         "name": "LoyaltyPoints",
         "type": "\"integer\""
        },
        {
         "metadata": "{}",
         "name": "AdvertisingPlatform",
         "type": "\"string\""
        },
        {
         "metadata": "{}",
         "name": "AdvertisingTool",
         "type": "\"string\""
        },
        {
         "metadata": "{}",
         "name": "Conversion",
         "type": "\"boolean\""
        }
       ],
       "type": "table"
      }
     },
     "output_type": "display_data"
    }
   ],
   "source": [
    "display(df.limit(5))"
   ]
  },
  {
   "cell_type": "code",
   "execution_count": 0,
   "metadata": {
    "application/vnd.databricks.v1+cell": {
     "cellMetadata": {
      "byteLimit": 2048000,
      "rowLimit": 10000
     },
     "inputWidgets": {},
     "nuid": "22da9192-472f-4d00-8423-d55747f86808",
     "showTitle": false,
     "tableResultSettingsMap": {},
     "title": ""
    }
   },
   "outputs": [
    {
     "data": {
      "text/html": [
       "<style scoped>\n",
       "  .table-result-container {\n",
       "    max-height: 300px;\n",
       "    overflow: auto;\n",
       "  }\n",
       "  table, th, td {\n",
       "    border: 1px solid black;\n",
       "    border-collapse: collapse;\n",
       "  }\n",
       "  th, td {\n",
       "    padding: 5px;\n",
       "  }\n",
       "  th {\n",
       "    text-align: left;\n",
       "  }\n",
       "</style><div class='table-result-container'><table class='table-result'><thead style='background-color: white'><tr><th>CustomerID</th><th>Age</th><th>Gender</th><th>Income</th><th>CampaignChannel</th><th>CampaignType</th><th>AdSpend</th><th>ClickThroughRate</th><th>ConversionRate</th><th>WebsiteVisits</th><th>PagesPerVisit</th><th>TimeOnSite</th><th>SocialShares</th><th>EmailOpens</th><th>EmailClicks</th><th>PreviousPurchases</th><th>LoyaltyPoints</th><th>AdvertisingPlatform</th><th>AdvertisingTool</th><th>Conversion</th></tr></thead><tbody><tr><td>8000</td><td>56</td><td>Female</td><td>136912.0</td><td>Social Media</td><td>Awareness</td><td>6497.87</td><td>0.04391851</td><td>0.08803141</td><td>0</td><td>2.3990166</td><td>7.3968024</td><td>19</td><td>6</td><td>9</td><td>4</td><td>688</td><td>IsConfid</td><td>ToolConfid</td><td>1</td></tr><tr><td>8001</td><td>69</td><td>Male</td><td>41760.0</td><td>Email</td><td>Retention</td><td>3898.6687</td><td>0.15572508</td><td>0.18272468</td><td>42</td><td>2.9171379</td><td>5.3525486</td><td>5</td><td>2</td><td>7</td><td>2</td><td>3459</td><td>IsConfid</td><td>ToolConfid</td><td>1</td></tr><tr><td>8002</td><td>46</td><td>Female</td><td>88456.0</td><td>PPC</td><td>Awareness</td><td>1546.4296</td><td>0.27749038</td><td>0.07642272</td><td>2</td><td>8.223619</td><td>13.794902</td><td>0</td><td>11</td><td>2</td><td>8</td><td>2337</td><td>IsConfid</td><td>ToolConfid</td><td>1</td></tr><tr><td>8003</td><td>32</td><td>Female</td><td>44085.0</td><td>PPC</td><td>Conversion</td><td>539.52594</td><td>0.13761126</td><td>0.08800419</td><td>47</td><td>4.540939</td><td>14.688363</td><td>89</td><td>2</td><td>2</td><td>0</td><td>2463</td><td>IsConfid</td><td>ToolConfid</td><td>1</td></tr><tr><td>8004</td><td>60</td><td>Female</td><td>83964.0</td><td>PPC</td><td>Conversion</td><td>1678.0436</td><td>0.2528511</td><td>0.109940104</td><td>0</td><td>2.046847</td><td>13.99337</td><td>6</td><td>6</td><td>6</td><td>8</td><td>4345</td><td>IsConfid</td><td>ToolConfid</td><td>1</td></tr></tbody></table></div>"
      ]
     },
     "metadata": {
      "application/vnd.databricks.v1+output": {
       "addedWidgets": {},
       "aggData": [],
       "aggError": "",
       "aggOverflow": false,
       "aggSchema": [],
       "aggSeriesLimitReached": false,
       "aggType": "",
       "arguments": {},
       "columnCustomDisplayInfos": {},
       "data": [
        [
         "8000",
         56,
         "Female",
         136912,
         "Social Media",
         "Awareness",
         6497.87,
         0.04391851,
         0.08803141,
         0,
         2.3990166,
         7.3968024,
         19,
         6,
         9,
         4,
         688,
         "IsConfid",
         "ToolConfid",
         1
        ],
        [
         "8001",
         69,
         "Male",
         41760,
         "Email",
         "Retention",
         3898.6687,
         0.15572508,
         0.18272468,
         42,
         2.9171379,
         5.3525486,
         5,
         2,
         7,
         2,
         3459,
         "IsConfid",
         "ToolConfid",
         1
        ],
        [
         "8002",
         46,
         "Female",
         88456,
         "PPC",
         "Awareness",
         1546.4296,
         0.27749038,
         0.07642272,
         2,
         8.223619,
         13.794902,
         0,
         11,
         2,
         8,
         2337,
         "IsConfid",
         "ToolConfid",
         1
        ],
        [
         "8003",
         32,
         "Female",
         44085,
         "PPC",
         "Conversion",
         539.52594,
         0.13761126,
         0.08800419,
         47,
         4.540939,
         14.688363,
         89,
         2,
         2,
         0,
         2463,
         "IsConfid",
         "ToolConfid",
         1
        ],
        [
         "8004",
         60,
         "Female",
         83964,
         "PPC",
         "Conversion",
         1678.0436,
         0.2528511,
         0.109940104,
         0,
         2.046847,
         13.99337,
         6,
         6,
         6,
         8,
         4345,
         "IsConfid",
         "ToolConfid",
         1
        ]
       ],
       "datasetInfos": [],
       "dbfsResultPath": null,
       "isJsonSchema": true,
       "metadata": {},
       "overflow": false,
       "plotOptions": {
        "customPlotOptions": {},
        "displayType": "table",
        "pivotAggregation": null,
        "pivotColumns": null,
        "xColumns": null,
        "yColumns": null
       },
       "removedWidgets": [],
       "schema": [
        {
         "metadata": "{}",
         "name": "CustomerID",
         "type": "\"string\""
        },
        {
         "metadata": "{}",
         "name": "Age",
         "type": "\"integer\""
        },
        {
         "metadata": "{}",
         "name": "Gender",
         "type": "\"string\""
        },
        {
         "metadata": "{}",
         "name": "Income",
         "type": "\"float\""
        },
        {
         "metadata": "{}",
         "name": "CampaignChannel",
         "type": "\"string\""
        },
        {
         "metadata": "{}",
         "name": "CampaignType",
         "type": "\"string\""
        },
        {
         "metadata": "{}",
         "name": "AdSpend",
         "type": "\"float\""
        },
        {
         "metadata": "{}",
         "name": "ClickThroughRate",
         "type": "\"float\""
        },
        {
         "metadata": "{}",
         "name": "ConversionRate",
         "type": "\"float\""
        },
        {
         "metadata": "{}",
         "name": "WebsiteVisits",
         "type": "\"integer\""
        },
        {
         "metadata": "{}",
         "name": "PagesPerVisit",
         "type": "\"float\""
        },
        {
         "metadata": "{}",
         "name": "TimeOnSite",
         "type": "\"float\""
        },
        {
         "metadata": "{}",
         "name": "SocialShares",
         "type": "\"integer\""
        },
        {
         "metadata": "{}",
         "name": "EmailOpens",
         "type": "\"integer\""
        },
        {
         "metadata": "{}",
         "name": "EmailClicks",
         "type": "\"integer\""
        },
        {
         "metadata": "{}",
         "name": "PreviousPurchases",
         "type": "\"integer\""
        },
        {
         "metadata": "{}",
         "name": "LoyaltyPoints",
         "type": "\"integer\""
        },
        {
         "metadata": "{}",
         "name": "AdvertisingPlatform",
         "type": "\"string\""
        },
        {
         "metadata": "{}",
         "name": "AdvertisingTool",
         "type": "\"string\""
        },
        {
         "metadata": "{}",
         "name": "Conversion",
         "type": "\"integer\""
        }
       ],
       "type": "table"
      }
     },
     "output_type": "display_data"
    }
   ],
   "source": [
    "df = df.withColumn('Conversion', col('Conversion').cast('integer'))\n",
    "\n",
    "display(df.limit(5))"
   ]
  },
  {
   "cell_type": "code",
   "execution_count": 0,
   "metadata": {
    "application/vnd.databricks.v1+cell": {
     "cellMetadata": {
      "byteLimit": 2048000,
      "rowLimit": 10000
     },
     "inputWidgets": {},
     "nuid": "7dd9c4f6-61a5-43cf-86b0-d971e8b58dcc",
     "showTitle": false,
     "tableResultSettingsMap": {},
     "title": ""
    }
   },
   "outputs": [
    {
     "data": {
      "image/png": "[encoded data removed]",
      "text/plain": [
       "<Figure size 600x400 with 1 Axes>"
      ]
     },
     "metadata": {},
     "output_type": "display_data"
    }
   ],
   "source": [
    "conversion_counts = df.groupBy(\"Conversion\").agg(count(lit(1)).alias(\"Count\"))\n",
    "\n",
    "# Calculate the total count\n",
    "total_count = df.count()\n",
    "\n",
    "# Convert counts to percentages for labeling\n",
    "conversion_counts = conversion_counts.withColumn(\"Percentage\", (col(\"Count\") / lit(total_count) * 100))\n",
    "\n",
    "# Convert Spark DataFrame to Pandas DataFrame for visualization\n",
    "conversion_pd = conversion_counts.toPandas()\n",
    "\n",
    "# Plotting\n",
    "plt.figure(figsize=(6, 4))\n",
    "bars = plt.bar(x=conversion_pd['Conversion'].astype(str), height=conversion_pd['Count'], color=['green', 'red'])\n",
    "\n",
    "# Adding percentage labels in the middle of bars\n",
    "for bar, percentage in zip(bars, conversion_pd['Percentage']):\n",
    "    y_position = bar.get_height() / 2  # Calculate the middle position\n",
    "    plt.text(bar.get_x() + bar.get_width() / 2, y_position, f'{percentage:.2f}%', ha='center', va='center',color='white')\n",
    "\n",
    "plt.ylabel('Count')\n",
    "\n",
    "plt.xticks(ticks=[0, 1], labels=['Converted', 'Not Converted'])\n",
    "plt.show()"
   ]
  },
  {
   "cell_type": "code",
   "execution_count": 0,
   "metadata": {
    "application/vnd.databricks.v1+cell": {
     "cellMetadata": {
      "byteLimit": 2048000,
      "rowLimit": 10000
     },
     "inputWidgets": {},
     "nuid": "e0b211af-30ee-4a66-85ab-9650849abbac",
     "showTitle": false,
     "tableResultSettingsMap": {},
     "title": ""
    }
   },
   "outputs": [
    {
     "data": {
      "image/png": "[encoded data removed]",
      "text/plain": [
       "<Figure size 400x200 with 1 Axes>"
      ]
     },
     "metadata": {},
     "output_type": "display_data"
    }
   ],
   "source": [
    "plt.rcParams.update({'font.size': 8})\n",
    "plt.figure(figsize=(4, 2))\n",
    "\n",
    "# Plotting the histogram using seaborn\n",
    "sns.histplot(data=df.toPandas(), x='Gender', hue='Conversion', multiple='stack', shrink=0.8,  palette='magma')\n",
    "\n",
    "# Adding labels and title\n",
    "plt.xlabel('Gender', fontsize=8)\n",
    "plt.ylabel('Count', fontsize = 8)\n",
    "plt.title('Histogram of Gender by Conversion Status', fontsize=8)\n",
    "\n",
    "# Show the plot\n",
    "plt.show()"
   ]
  },
  {
   "cell_type": "code",
   "execution_count": 0,
   "metadata": {
    "application/vnd.databricks.v1+cell": {
     "cellMetadata": {
      "byteLimit": 2048000,
      "rowLimit": 10000
     },
     "inputWidgets": {},
     "nuid": "c87e5aad-98d1-4955-93d6-315edb643239",
     "showTitle": false,
     "tableResultSettingsMap": {},
     "title": ""
    }
   },
   "outputs": [
    {
     "data": {
      "image/png": "[encoded data removed]",
      "text/plain": [
       "<Figure size 400x200 with 1 Axes>"
      ]
     },
     "metadata": {},
     "output_type": "display_data"
    }
   ],
   "source": [
    "plt.rcParams.update({'font.size': 8})\n",
    "plt.figure(figsize=(4, 2))\n",
    "\n",
    "# Plotting the histogram using seaborn\n",
    "sns.histplot(data=df.toPandas(), x='Age', hue='Conversion', multiple='stack', shrink=0.8,  palette='magma')\n",
    "\n",
    "# Adding labels and title\n",
    "plt.xlabel('Age', fontsize=8)\n",
    "plt.ylabel('Count', fontsize = 8)\n",
    "plt.title('Histogram of Age by Conversion Status', fontsize=8)\n",
    "\n",
    "# Show the plot\n",
    "plt.show()"
   ]
  },
  {
   "cell_type": "code",
   "execution_count": 0,
   "metadata": {
    "application/vnd.databricks.v1+cell": {
     "cellMetadata": {
      "byteLimit": 2048000,
      "rowLimit": 10000
     },
     "inputWidgets": {},
     "nuid": "24b68b39-8e75-4247-83ef-efbf77278106",
     "showTitle": false,
     "tableResultSettingsMap": {},
     "title": ""
    }
   },
   "outputs": [
    {
     "data": {
      "image/png": "[encoded data removed]",
      "text/plain": [
       "<Figure size 400x200 with 1 Axes>"
      ]
     },
     "metadata": {},
     "output_type": "display_data"
    }
   ],
   "source": [
    "plt.rcParams.update({'font.size': 8})\n",
    "plt.figure(figsize=(4, 2))\n",
    "\n",
    "# Plotting the histogram using seaborn\n",
    "sns.histplot(data=df.toPandas(), x='Income', hue='Conversion', multiple='stack', shrink=0.8,  palette='magma')\n",
    "\n",
    "# Adding labels and title\n",
    "plt.xlabel('Income', fontsize=8)\n",
    "plt.ylabel('Count', fontsize = 8)\n",
    "plt.title('Histogram of Income by Conversion Status', fontsize=8)\n",
    "\n",
    "# Show the plot\n",
    "plt.show()"
   ]
  },
  {
   "cell_type": "code",
   "execution_count": 0,
   "metadata": {
    "application/vnd.databricks.v1+cell": {
     "cellMetadata": {
      "byteLimit": 2048000,
      "rowLimit": 10000
     },
     "inputWidgets": {},
     "nuid": "327fb0e7-e059-42fa-94c0-1158babe4190",
     "showTitle": false,
     "tableResultSettingsMap": {},
     "title": ""
    }
   },
   "outputs": [
    {
     "data": {
      "image/png": "[encoded data removed]",
      "text/plain": [
       "<Figure size 800x600 with 2 Axes>"
      ]
     },
     "metadata": {},
     "output_type": "display_data"
    }
   ],
   "source": [
    "# List of columns you want to include in the correlation matrix\n",
    "columns_to_include = ['Age', 'Income', 'AdSpend', 'ClickThroughRate', 'ConversionRate', 'WebsiteVisits', 'PagesPerVisit', 'TimeOnSite', 'SocialShares', 'EmailOpens', 'EmailClicks', 'PreviousPurchases', 'LoyaltyPoints','Conversion']\n",
    "\n",
    "# Assemble the vector\n",
    "assembler = VectorAssembler(inputCols=columns_to_include, outputCol=\"features\")\n",
    "df_vector = assembler.transform(df).select(\"features\")\n",
    "\n",
    "# Calculate Pearson correlation matrix\n",
    "corr_matrix = Correlation.corr(df_vector, \"features\").head()[0].toArray()\n",
    "\n",
    "# Convert to Pandas DataFrame for plotting\n",
    "corr_df = pd.DataFrame(corr_matrix, index=columns_to_include, columns=columns_to_include)\n",
    "\n",
    "# Plotting the heatmap\n",
    "plt.figure(figsize=(8, 6))\n",
    "sns.heatmap(corr_df, annot=True, fmt=\".2f\", cmap='coolwarm')\n",
    "plt.title(\"Feature Correlation Matrix\")\n",
    "plt.show()"
   ]
  },
  {
   "cell_type": "code",
   "execution_count": 0,
   "metadata": {
    "application/vnd.databricks.v1+cell": {
     "cellMetadata": {
      "byteLimit": 2048000,
      "rowLimit": 10000
     },
     "inputWidgets": {},
     "nuid": "3b9874c5-2078-42f9-b84e-692bddc44239",
     "showTitle": false,
     "tableResultSettingsMap": {},
     "title": ""
    }
   },
   "outputs": [
    {
     "data": {
      "image/png": "[encoded data removed]",
      "text/plain": [
       "<Figure size 600x400 with 1 Axes>"
      ]
     },
     "metadata": {},
     "output_type": "display_data"
    },
    {
     "data": {
      "image/png": "[encoded data removed]",
      "text/plain": [
       "<Figure size 600x400 with 1 Axes>"
      ]
     },
     "metadata": {},
     "output_type": "display_data"
    },
    {
     "data": {
      "image/png": "[encoded data removed]",
      "text/plain": [
       "<Figure size 600x400 with 1 Axes>"
      ]
     },
     "metadata": {},
     "output_type": "display_data"
    }
   ],
   "source": [
    "\n",
    "categorical_columns = [item[0] for item in df.dtypes if item[1].startswith('string') and item[0] not in ['CustomerID', 'AdvertisingTool', 'AdvertisingPlatform']]\n",
    "\n",
    "for column in categorical_columns:\n",
    "    result_df = df.groupBy(column).agg(avg(col(\"Conversion\")).alias(\"Average_Conversion\")).orderBy(\"Average_Conversion\", ascending=False)\n",
    "    result_pd = result_df.toPandas()\n",
    "    result_pd.plot(kind='bar', x=column, y='Average_Conversion', color='skyblue', figsize=(6, 4))\n",
    "    plt.title(f'Average Conversion by {column}')\n",
    "    plt.ylabel('Average Conversion')\n",
    "    plt.xlabel(column)\n",
    "    display()  # Use display() to show the plot in Databricks"
   ]
  },
  {
   "cell_type": "code",
   "execution_count": 0,
   "metadata": {
    "application/vnd.databricks.v1+cell": {
     "cellMetadata": {
      "byteLimit": 2048000,
      "rowLimit": 10000
     },
     "inputWidgets": {},
     "nuid": "bdb77132-0973-4fed-abe8-f935dd4cb098",
     "showTitle": false,
     "tableResultSettingsMap": {},
     "title": ""
    }
   },
   "outputs": [
    {
     "data": {
      "image/png": "[encoded data removed]",
      "text/plain": [
       "<Figure size 800x600 with 1 Axes>"
      ]
     },
     "metadata": {},
     "output_type": "display_data"
    }
   ],
   "source": [
    "\n",
    "# Calculate average conversion by CampaignType\n",
    "avg_conversion_df = df.groupBy(\"CampaignType\").agg(avg(col(\"Conversion\")).alias(\"Average_Conversion\"))\n",
    "\n",
    "# Multiply by 100 to convert to percentage\n",
    "avg_conversion_df = avg_conversion_df.withColumn(\"Average_Conversion\", col(\"Average_Conversion\") * 100)\n",
    "\n",
    "# Convert to Pandas for plotting\n",
    "avg_conversion_pd = avg_conversion_df.toPandas()\n",
    "\n",
    "# Define a list of colors for the bars\n",
    "colors = ['blue', 'green', 'red', 'purple', 'orange', 'yellow']\n",
    "\n",
    "# Ensure the list of colors is at least as long as the number of unique campaign types\n",
    "unique_campaign_types = avg_conversion_pd['CampaignType'].nunique()\n",
    "if len(colors) < unique_campaign_types:\n",
    "    print(\"Warning: Not enough colors specified for each campaign type. Some bars will have the same color.\")\n",
    "\n",
    "# Plotting\n",
    "plt.figure(figsize=(8, 6))\n",
    "bars = plt.bar(x=avg_conversion_pd['CampaignType'], height=avg_conversion_pd['Average_Conversion'], color=colors)\n",
    "\n",
    "plt.title('Average Conversion by Campaign Type')\n",
    "plt.ylabel('Average Conversion (%)')\n",
    "plt.xlabel('Campaign Type')\n",
    "\n",
    "# Adding the percentage labels in the middle of the bars, rounded to the nearest hundredth\n",
    "for bar, value in zip(bars, avg_conversion_pd['Average_Conversion']):\n",
    "    y_position = bar.get_height() / 2  # Calculate the middle position\n",
    "    plt.text(bar.get_x() + bar.get_width() / 2, y_position, f'{value:.2f}%', ha='center', va='center', color='white', fontsize=18)\n",
    "\n",
    "display()  # Use display() to show the plot in Databricks"
   ]
  },
  {
   "cell_type": "markdown",
   "metadata": {
    "application/vnd.databricks.v1+cell": {
     "cellMetadata": {},
     "inputWidgets": {},
     "nuid": "04406fdc-dc96-4032-88a3-ee4d8dc7c5a9",
     "showTitle": false,
     "tableResultSettingsMap": {},
     "title": ""
    }
   },
   "source": [
    "**Feature Selection**"
   ]
  },
  {
   "cell_type": "code",
   "execution_count": 0,
   "metadata": {
    "application/vnd.databricks.v1+cell": {
     "cellMetadata": {},
     "inputWidgets": {},
     "nuid": "9bfe10d7-e59a-46a5-a005-305827ad1248",
     "showTitle": false,
     "tableResultSettingsMap": {},
     "title": ""
    }
   },
   "outputs": [],
   "source": [
    "target_column = 'Conversion'"
   ]
  },
  {
   "cell_type": "code",
   "execution_count": 0,
   "metadata": {
    "application/vnd.databricks.v1+cell": {
     "cellMetadata": {
      "byteLimit": 2048000,
      "rowLimit": 10000
     },
     "inputWidgets": {},
     "nuid": "9e5006f8-303f-4d53-a279-2fde379beb67",
     "showTitle": false,
     "tableResultSettingsMap": {},
     "title": ""
    }
   },
   "outputs": [
    {
     "data": {
      "application/vnd.jupyter.widget-view+json": {
       "model_id": "dac455db4e0e4b55807c0b8263ab0e65",
       "version_major": 2,
       "version_minor": 0
      },
      "text/plain": [
       "Downloading artifacts:   0%|          | 0/35 [00:00<?, ?it/s]"
      ]
     },
     "metadata": {},
     "output_type": "display_data"
    },
    {
     "data": {
      "application/vnd.jupyter.widget-view+json": {
       "model_id": "614137e888cc4970867b9ff8c15eca3d",
       "version_major": 2,
       "version_minor": 0
      },
      "text/plain": [
       "Uploading artifacts:   0%|          | 0/4 [00:00<?, ?it/s]"
      ]
     },
     "metadata": {},
     "output_type": "display_data"
    },
    {
     "name": "stdout",
     "output_type": "stream",
     "text": [
      "pValues: [0.9233881873083927,0.5944499903760994,0.0]\n",
      "degreesOfFreedom: [1, 4, 3]\n",
      "statistics: [0.009248031875412217,2.784854064362406,84.45439577326071]\n"
     ]
    }
   ],
   "source": [
    "# Indexing categorical columns\n",
    "indexers = [StringIndexer(inputCol=column, outputCol=column+\"_indexed\").fit(df) for column in categorical_columns]\n",
    "\n",
    "# Creating a pipeline to transform the data\n",
    "pipeline = Pipeline(stages=indexers)\n",
    "df_indexed = pipeline.fit(df).transform(df)\n",
    "\n",
    "# Assembling indexed columns into a single vector column\n",
    "assembler = VectorAssembler(inputCols=[column+\"_indexed\" for column in categorical_columns], outputCol=\"features\")\n",
    "df_assembled = assembler.transform(df_indexed)\n",
    "\n",
    "# Performing Chi-Squared test\n",
    "r = ChiSquareTest.test(df_assembled, \"features\", target_column).head()"
   ]
  },
  {
   "cell_type": "code",
   "execution_count": 0,
   "metadata": {
    "application/vnd.databricks.v1+cell": {
     "cellMetadata": {
      "byteLimit": 2048000,
      "rowLimit": 10000
     },
     "inputWidgets": {},
     "nuid": "438c49e3-f23e-40e5-a631-ff8a03e8808d",
     "showTitle": false,
     "tableResultSettingsMap": {},
     "title": ""
    }
   },
   "outputs": [
    {
     "name": "stdout",
     "output_type": "stream",
     "text": [
      "Features that passed the Chi-Squared test: ['CampaignType']\n"
     ]
    }
   ],
   "source": [
    "# Assuming 'r' contains the results from the ChiSquareTest\n",
    "pValues = r.pValues\n",
    "cat_features_passed = []\n",
    "\n",
    "# Assuming 'categorical_columns' contains the names of your categorical features\n",
    "for i, p_value in enumerate(pValues):\n",
    "    if p_value <= 0.05:\n",
    "        cat_features_passed.append(categorical_columns[i])\n",
    "\n",
    "# Display the features that passed the Chi-Squared test\n",
    "print(\"Features that passed the Chi-Squared test:\", cat_features_passed)"
   ]
  },
  {
   "cell_type": "code",
   "execution_count": 0,
   "metadata": {
    "application/vnd.databricks.v1+cell": {
     "cellMetadata": {
      "byteLimit": 2048000,
      "rowLimit": 10000
     },
     "inputWidgets": {},
     "nuid": "af997c6a-91d7-40fe-9c66-2204b66b1a5b",
     "showTitle": false,
     "tableResultSettingsMap": {},
     "title": ""
    }
   },
   "outputs": [],
   "source": [
    "numerical_columns = [item[0] for item in df.dtypes if item[1] in ('int', 'double', 'float') and item[0] not in ['CustomerID','Conversion']]"
   ]
  },
  {
   "cell_type": "code",
   "execution_count": 0,
   "metadata": {
    "application/vnd.databricks.v1+cell": {
     "cellMetadata": {
      "byteLimit": 2048000,
      "rowLimit": 10000
     },
     "inputWidgets": {},
     "nuid": "e9dbefa8-0a5d-4b27-9368-6f50bc661469",
     "showTitle": false,
     "tableResultSettingsMap": {},
     "title": ""
    }
   },
   "outputs": [
    {
     "name": "stdout",
     "output_type": "stream",
     "text": [
      "Numerical columns that passed the Kruskal-Wallis test: ['AdSpend', 'ClickThroughRate', 'ConversionRate', 'WebsiteVisits', 'PagesPerVisit', 'TimeOnSite', 'EmailOpens', 'EmailClicks', 'PreviousPurchases', 'LoyaltyPoints']\n"
     ]
    }
   ],
   "source": [
    "# Assuming 'df' is your Spark DataFrame and 'numerical_columns' is a list of your numerical feature names\n",
    "# Also assuming 'target_column' is the name of your categorical target variable\n",
    "\n",
    "# Convert Spark DataFrame to Pandas DataFrame for the analysis\n",
    "pdf = df.select(numerical_columns + [target_column]).toPandas()\n",
    "\n",
    "# Perform Kruskal-Wallis test for each numerical feature against the target\n",
    "for column in numerical_columns:\n",
    "    # Prepare data for the test\n",
    "    groups = pdf.groupby(target_column)[column].apply(list)\n",
    "    # Perform the Kruskal-Wallis test\n",
    "    stat, p = kruskal(*groups)\n",
    "    \n",
    "    # Check if the p-value is less than or equal to 0.05\n",
    "    if p <= 0.05:\n",
    "        num_features_passed.append(column)"
   ]
  },
  {
   "cell_type": "markdown",
   "metadata": {
    "application/vnd.databricks.v1+cell": {
     "cellMetadata": {
      "byteLimit": 2048000,
      "rowLimit": 10000
     },
     "inputWidgets": {},
     "nuid": "3864c78b-c224-405b-b2f2-4b5603cfb108",
     "showTitle": false,
     "tableResultSettingsMap": {},
     "title": ""
    }
   },
   "source": [
    "**Modelling with AutoML**"
   ]
  },
  {
   "cell_type": "code",
   "execution_count": 0,
   "metadata": {
    "application/vnd.databricks.v1+cell": {
     "cellMetadata": {
      "byteLimit": 2048000,
      "rowLimit": 10000
     },
     "inputWidgets": {},
     "nuid": "51e3c1d9-6fd5-4a05-b09b-ec9f31810ba3",
     "showTitle": false,
     "tableResultSettingsMap": {},
     "title": ""
    }
   },
   "outputs": [],
   "source": [
    "model_df = df.drop(\"CustomerID\", \"AdvertisingPlatform\", \"AdvertisingTool\")"
   ]
  },
  {
   "cell_type": "code",
   "execution_count": null,
   "metadata": {
    "application/vnd.databricks.v1+cell": {
     "cellMetadata": {
      "byteLimit": 2048000,
      "rowLimit": 10000
     },
     "inputWidgets": {},
     "nuid": "4e98c308-99cc-4a16-b783-377b202eec1a",
     "showTitle": false,
     "tableResultSettingsMap": {},
     "title": ""
    }
   },
   "outputs": [],
   "source": [
    "train_df, test_df = model_df.randomSplit([0.99, 0.01], seed=42)"
   ]
  },
  {
   "cell_type": "code",
   "execution_count": 0,
   "metadata": {
    "application/vnd.databricks.v1+cell": {
     "cellMetadata": {
      "byteLimit": 2048000,
      "rowLimit": 10000
     },
     "inputWidgets": {},
     "nuid": "0d8cb278-7bcc-4b35-aade-9a30bb2ea2ff",
     "showTitle": false,
     "tableResultSettingsMap": {},
     "title": ""
    }
   },
   "outputs": [
    {
     "name": "stderr",
     "output_type": "stream",
     "text": [
      "2024/08/14 16:40:26 INFO databricks.automl.client.manager: AutoML will optimize for F1 score metric, which is tracked as val_f1_score in the MLflow experiment.\n",
      "2024/08/14 16:40:27 INFO databricks.automl.client.manager: MLflow Experiment ID: 363340752390845\n",
      "2024/08/14 16:40:27 INFO databricks.automl.client.manager: MLflow Experiment: https://uchicago-team7-databricks.cloud.databricks.com/?o=2559582108114497#mlflow/experiments/363340752390845\n",
      "2024/08/14 16:42:47 INFO databricks.automl.client.manager: Data exploration notebook: https://uchicago-team7-databricks.cloud.databricks.com/?o=2559582108114497#notebook/363340752390863\n",
      "2024/08/14 17:11:17 INFO databricks.automl.client.manager: AutoML experiment completed successfully.\n"
     ]
    },
    {
     "data": {
      "text/html": [
       "\n",
       "        <style>\n",
       "            .grid-container {\n",
       "              display: grid\n",
       "              grid-template-columns: auto;\n",
       "              padding: 10px;\n",
       "            }\n",
       "            <!-- Picked to be same as https://github.com/databricks/universe/blob/feaafc3875d9b95a124ed44ff4b99fb1002e544d/webapp/web/js/templates/iframeSandbox.css#L6-L11 -->\n",
       "            .grid-container div {\n",
       "              font-family: Helvetica, Arial, sans-serif;\n",
       "              font-size: 14px;\n",
       "            }\n",
       "        </style>\n",
       "        <div class=\"grid-container\">\n",
       "            \n",
       "            <div><p>For exploratory data analysis, open the <a href=https://uchicago-team7-databricks.cloud.databricks.com/?o=2559582108114497#notebook/363340752390863>data exploration notebook</a></p></div>\n",
       "            <div><p>To view the best performing model, open the <a href=#notebook/363340752390929>best trial notebook</a></p></div>\n",
       "            <div><p>To view details about all trials, navigate to the <a href=https://uchicago-team7-databricks.cloud.databricks.com/?o=2559582108114497#mlflow/experiments/363340752390845>MLflow experiment</a></p></div>\n",
       "            <div><p><strong>Metrics for the best trial:</strong></p></div>\n",
       "            <div>\n",
       "                <!-- class inlined from https://github.com/databricks/universe/blob/feaafc3875d9b95a124ed44ff4b99fb1002e544d/webapp/web/js/templates/iframeSandbox.css#L35 -->\n",
       "                \n",
       "                    <table class=\"dataframe\">\n",
       "                        <thead>\n",
       "                          <tr>\n",
       "                            <th></th>\n",
       "                            <th>Train</th>\n",
       "                            <th>Validation</th>\n",
       "                            <th>Test</th>\n",
       "                          </tr>\n",
       "                        </thead>\n",
       "                        <tbody>\n",
       "                        \n",
       "                <tr>\n",
       "                    <th> f1_score </th>\n",
       "                    <td> 0.968 </td>\n",
       "                    <td> 0.949 </td>\n",
       "                    <td> 0.953 </td>\n",
       "                </tr>\n",
       "                \n",
       "\n",
       "                <tr>\n",
       "                    <th> recall_score </th>\n",
       "                    <td> 0.997 </td>\n",
       "                    <td> 0.996 </td>\n",
       "                    <td> 0.996 </td>\n",
       "                </tr>\n",
       "                \n",
       "\n",
       "                <tr>\n",
       "                    <th> roc_auc </th>\n",
       "                    <td> 0.889 </td>\n",
       "                    <td> 0.807 </td>\n",
       "                    <td> 0.837 </td>\n",
       "                </tr>\n",
       "                \n",
       "\n",
       "                <tr>\n",
       "                    <th> false_negatives </th>\n",
       "                    <td> 11.000 </td>\n",
       "                    <td> 5.000 </td>\n",
       "                    <td> 5.000 </td>\n",
       "                </tr>\n",
       "                \n",
       "\n",
       "                <tr>\n",
       "                    <th> false_positives </th>\n",
       "                    <td> 266.000 </td>\n",
       "                    <td> 146.000 </td>\n",
       "                    <td> 130.000 </td>\n",
       "                </tr>\n",
       "                \n",
       "\n",
       "                <tr>\n",
       "                    <th> example_count </th>\n",
       "                    <td> 4703.000 </td>\n",
       "                    <td> 1638.000 </td>\n",
       "                    <td> 1579.000 </td>\n",
       "                </tr>\n",
       "                \n",
       "\n",
       "                <tr>\n",
       "                    <th> precision_score </th>\n",
       "                    <td> 0.939 </td>\n",
       "                    <td> 0.906 </td>\n",
       "                    <td> 0.914 </td>\n",
       "                </tr>\n",
       "                \n",
       "\n",
       "                <tr>\n",
       "                    <th> true_positives </th>\n",
       "                    <td> 4125.000 </td>\n",
       "                    <td> 1415.000 </td>\n",
       "                    <td> 1378.000 </td>\n",
       "                </tr>\n",
       "                \n",
       "\n",
       "                <tr>\n",
       "                    <th> precision_recall_auc </th>\n",
       "                    <td> 0.976 </td>\n",
       "                    <td> 0.946 </td>\n",
       "                    <td> 0.954 </td>\n",
       "                </tr>\n",
       "                \n",
       "\n",
       "                <tr>\n",
       "                    <th> true_negatives </th>\n",
       "                    <td> 301.000 </td>\n",
       "                    <td> 72.000 </td>\n",
       "                    <td> 66.000 </td>\n",
       "                </tr>\n",
       "                \n",
       "\n",
       "                <tr>\n",
       "                    <th> log_loss </th>\n",
       "                    <td> 0.208 </td>\n",
       "                    <td> 0.290 </td>\n",
       "                    <td> 0.260 </td>\n",
       "                </tr>\n",
       "                \n",
       "\n",
       "                <tr>\n",
       "                    <th> score </th>\n",
       "                    <td> 0.941 </td>\n",
       "                    <td> 0.908 </td>\n",
       "                    <td> 0.915 </td>\n",
       "                </tr>\n",
       "                \n",
       "\n",
       "                <tr>\n",
       "                    <th> accuracy_score </th>\n",
       "                    <td> 0.941 </td>\n",
       "                    <td> 0.908 </td>\n",
       "                    <td> 0.915 </td>\n",
       "                </tr>\n",
       "                \n",
       "                        </tbody>\n",
       "                    </table>\n",
       "            \n",
       "            </div>\n",
       "        </div>\n",
       "        "
      ]
     },
     "metadata": {},
     "output_type": "display_data"
    }
   ],
   "source": [
    "summary = automl.classify(train_df, target_col=\"Conversion\", timeout_minutes=30)"
   ]
  },
  {
   "cell_type": "code",
   "execution_count": 0,
   "metadata": {
    "application/vnd.databricks.v1+cell": {
     "cellMetadata": {
      "byteLimit": 2048000,
      "rowLimit": 10000
     },
     "inputWidgets": {},
     "nuid": "ee44c1cc-b728-49b4-85c1-ec869928f843",
     "showTitle": false,
     "tableResultSettingsMap": {},
     "title": ""
    }
   },
   "outputs": [],
   "source": [
    "model_uri = summary.best_trial.model_path"
   ]
  },
  {
   "cell_type": "code",
   "execution_count": 0,
   "metadata": {
    "application/vnd.databricks.v1+cell": {
     "cellMetadata": {
      "byteLimit": 2048000,
      "rowLimit": 10000
     },
     "inputWidgets": {},
     "nuid": "45f0dd8c-2acc-4069-939f-7f24c9bf1aab",
     "showTitle": false,
     "tableResultSettingsMap": {},
     "title": ""
    }
   },
   "outputs": [
    {
     "data": {
      "text/plain": [
       "'dbfs:/databricks/mlflow-tracking/363340752390845/039a2debf5f14d8984c8f9e19adfd998/artifacts/model'"
      ]
     },
     "execution_count": 70,
     "metadata": {},
     "output_type": "execute_result"
    }
   ],
   "source": [
    "model_uri"
   ]
  },
  {
   "cell_type": "code",
   "execution_count": null,
   "metadata": {
    "application/vnd.databricks.v1+cell": {
     "cellMetadata": {
      "byteLimit": 2048000,
      "rowLimit": 10000
     },
     "inputWidgets": {},
     "nuid": "413944d3-ea12-46dd-b2ed-e67eb194d5d4",
     "showTitle": false,
     "tableResultSettingsMap": {},
     "title": ""
    }
   },
   "outputs": [],
   "source": [
    "# Prepare test dataset\n",
    "test_pdf = test_df.toPandas()\n",
    "y_test = test_pdf[\"Conversion\"]\n",
    "X_test = test_pdf.drop(\"Conversion\", axis=1)\n",
    "\n",
    "# Run inference using the best model\n",
    "model = mlflow.pyfunc.load_model(model_uri)\n",
    "predictions = model.predict(X_test)\n",
    "test_pdf[\"conversion_predicted\"] = predictions\n",
    "display(test_pdf)"
   ]
  },
  {
   "cell_type": "code",
   "execution_count": 0,
   "metadata": {
    "application/vnd.databricks.v1+cell": {
     "cellMetadata": {
      "byteLimit": 2048000,
      "rowLimit": 10000
     },
     "inputWidgets": {},
     "nuid": "9c903333-7560-4b57-9861-d03a40060284",
     "showTitle": false,
     "tableResultSettingsMap": {},
     "title": ""
    }
   },
   "outputs": [
    {
     "name": "stderr",
     "output_type": "stream",
     "text": [
      "Successfully registered model 'AutoML - Heidi'.\n",
      "Created version '1' of model 'AutoML - Heidi'.\n"
     ]
    }
   ],
   "source": [
    "model_name = \"AutoML - Heidi\"\n",
    "registered_model_version = mlflow.register_model(model_uri, model_name)"
   ]
  },
  {
   "cell_type": "markdown",
   "metadata": {
    "application/vnd.databricks.v1+cell": {
     "cellMetadata": {},
     "inputWidgets": {},
     "nuid": "356a8fd8-c7a5-48b3-ad0c-7e943dded594",
     "showTitle": false,
     "tableResultSettingsMap": {},
     "title": ""
    }
   },
   "source": [
    "**Adjusted Model**"
   ]
  },
  {
   "cell_type": "code",
   "execution_count": 0,
   "metadata": {
    "application/vnd.databricks.v1+cell": {
     "cellMetadata": {
      "byteLimit": 2048000,
      "rowLimit": 10000
     },
     "inputWidgets": {},
     "nuid": "cc3fd6f5-d8f4-4e8b-9251-687f96e62f7c",
     "showTitle": false,
     "tableResultSettingsMap": {},
     "title": ""
    }
   },
   "outputs": [],
   "source": [
    "from databricks.automl_runtime.sklearn.column_selector import ColumnSelector\n",
    "supported_cols = cat_features_passed + num_features_passed\n",
    "col_selector = ColumnSelector(supported_cols)"
   ]
  },
  {
   "cell_type": "markdown",
   "metadata": {
    "application/vnd.databricks.v1+cell": {
     "cellMetadata": {},
     "inputWidgets": {},
     "nuid": "795c7cd2-a917-4522-aa73-25820dfc8f08",
     "showTitle": false,
     "tableResultSettingsMap": {},
     "title": ""
    }
   },
   "source": [
    "**Numerical Data processing**"
   ]
  },
  {
   "cell_type": "code",
   "execution_count": 0,
   "metadata": {
    "application/vnd.databricks.v1+cell": {
     "cellMetadata": {
      "byteLimit": 2048000,
      "rowLimit": 10000
     },
     "inputWidgets": {},
     "nuid": "5f318a3a-321d-497c-baa1-f72b4e8704ca",
     "showTitle": false,
     "tableResultSettingsMap": {},
     "title": ""
    }
   },
   "outputs": [],
   "source": [
    "from sklearn.compose import ColumnTransformer\n",
    "from sklearn.impute import SimpleImputer\n",
    "from sklearn.pipeline import Pipeline\n",
    "from sklearn.preprocessing import FunctionTransformer, StandardScaler\n",
    "\n",
    "num_imputers = []\n",
    "num_imputers.append((\"impute_mean\", SimpleImputer(), num_features_passed))\n",
    "\n",
    "numerical_pipeline = Pipeline(steps=[\n",
    "    (\"converter\", FunctionTransformer(lambda df: df.apply(pd.to_numeric, errors='coerce'))),\n",
    "    (\"imputers\", ColumnTransformer(num_imputers)),\n",
    "    (\"standardizer\", StandardScaler()),\n",
    "])\n",
    "\n",
    "numerical_transformers = [(\"numerical\", numerical_pipeline, num_features_passed)]"
   ]
  },
  {
   "cell_type": "markdown",
   "metadata": {
    "application/vnd.databricks.v1+cell": {
     "cellMetadata": {},
     "inputWidgets": {},
     "nuid": "006c8413-6f60-42dd-94d2-28422f8e7cfc",
     "showTitle": false,
     "tableResultSettingsMap": {},
     "title": ""
    }
   },
   "source": [
    "**Categorical columns preprocessing**"
   ]
  },
  {
   "cell_type": "code",
   "execution_count": 0,
   "metadata": {
    "application/vnd.databricks.v1+cell": {
     "cellMetadata": {
      "byteLimit": 2048000,
      "rowLimit": 10000
     },
     "inputWidgets": {},
     "nuid": "0b1b2dd4-8279-4aa9-ba14-fd77eca7fa79",
     "showTitle": false,
     "tableResultSettingsMap": {},
     "title": ""
    }
   },
   "outputs": [],
   "source": [
    "from databricks.automl_runtime.sklearn import OneHotEncoder\n",
    "from sklearn.compose import ColumnTransformer\n",
    "from sklearn.impute import SimpleImputer\n",
    "from sklearn.pipeline import Pipeline\n",
    "\n",
    "one_hot_imputers = []\n",
    "\n",
    "one_hot_pipeline = Pipeline(steps=[\n",
    "    (\"imputers\", ColumnTransformer(one_hot_imputers, remainder=\"passthrough\")),\n",
    "    (\"one_hot_encoder\", OneHotEncoder(handle_unknown=\"indicator\")),\n",
    "])\n",
    "\n",
    "categorical_one_hot_transformers = [(\"onehot\", one_hot_pipeline, cat_features_passed)]"
   ]
  },
  {
   "cell_type": "code",
   "execution_count": 0,
   "metadata": {
    "application/vnd.databricks.v1+cell": {
     "cellMetadata": {
      "byteLimit": 2048000,
      "rowLimit": 10000
     },
     "inputWidgets": {},
     "nuid": "d0af1317-4bfc-4b8f-baa4-fe3cc5e380dc",
     "showTitle": false,
     "tableResultSettingsMap": {},
     "title": ""
    }
   },
   "outputs": [],
   "source": [
    "from sklearn.compose import ColumnTransformer\n",
    "\n",
    "transformers = numerical_transformers + categorical_one_hot_transformers\n",
    "\n",
    "preprocessor = ColumnTransformer(transformers, remainder=\"passthrough\", sparse_threshold=0)"
   ]
  },
  {
   "cell_type": "markdown",
   "metadata": {
    "application/vnd.databricks.v1+cell": {
     "cellMetadata": {},
     "inputWidgets": {},
     "nuid": "704f16cc-df49-497c-8530-b8ad5b17c208",
     "showTitle": false,
     "tableResultSettingsMap": {},
     "title": ""
    }
   },
   "source": [
    "**Train Test Split**"
   ]
  },
  {
   "cell_type": "code",
   "execution_count": 0,
   "metadata": {
    "application/vnd.databricks.v1+cell": {
     "cellMetadata": {
      "byteLimit": 2048000,
      "rowLimit": 10000
     },
     "inputWidgets": {},
     "nuid": "9f97bebf-c68f-4577-8e0f-7d2e7034cdf3",
     "showTitle": false,
     "tableResultSettingsMap": {},
     "title": ""
    }
   },
   "outputs": [],
   "source": [
    "from sklearn.model_selection import train_test_split\n",
    "# Splitting the data into features (X) and target variable (y)\n",
    "X = pandas_df.drop(target_column, axis=1)\n",
    "y = pandas_df[target_column]\n",
    "\n",
    "# Splitting the data into train, test sets\n",
    "X_train, X_test, y_train, y_test = train_test_split(X, y, test_size=0.2, random_state=42)"
   ]
  },
  {
   "cell_type": "markdown",
   "metadata": {
    "application/vnd.databricks.v1+cell": {
     "cellMetadata": {},
     "inputWidgets": {},
     "nuid": "c6c0682d-01eb-4257-9fa9-db2f26f2a81c",
     "showTitle": false,
     "tableResultSettingsMap": {},
     "title": ""
    }
   },
   "source": [
    "**Model 1**"
   ]
  },
  {
   "cell_type": "code",
   "execution_count": null,
   "metadata": {
    "application/vnd.databricks.v1+cell": {
     "cellMetadata": {
      "byteLimit": 2048000,
      "rowLimit": 10000
     },
     "inputWidgets": {},
     "nuid": "05470475-6064-4439-8654-3bc7cfe4356d",
     "showTitle": false,
     "tableResultSettingsMap": {},
     "title": ""
    }
   },
   "outputs": [],
   "source": [
    "import lightgbm\n",
    "from lightgbm import LGBMClassifier"
   ]
  },
  {
   "cell_type": "code",
   "execution_count": null,
   "metadata": {
    "application/vnd.databricks.v1+cell": {
     "cellMetadata": {
      "byteLimit": 2048000,
      "rowLimit": 10000
     },
     "inputWidgets": {},
     "nuid": "f009c740-b5cd-476f-aa9a-d9ccf90e0ec5",
     "showTitle": false,
     "tableResultSettingsMap": {},
     "title": ""
    }
   },
   "outputs": [],
   "source": [
    "import mlflow\n",
    "from sklearn.model_selection import RandomizedSearchCV\n",
    "from sklearn.metrics import make_scorer, f1_score, accuracy_score, roc_auc_score\n",
    "from lightgbm import LGBMClassifier\n",
    "from sklearn.pipeline import Pipeline\n",
    "import numpy as np\n",
    "\n",
    "# Define your pipeline\n",
    "pipeline = Pipeline([\n",
    "    (\"column_selector\", col_selector),\n",
    "    (\"preprocessor\", preprocessor),\n",
    "    (\"classifier\", LGBMClassifier()),\n",
    "])\n",
    "\n",
    "param_dist = {\n",
    "    'classifier__colsample_bytree': [0.5, 0.75, 1.0],\n",
    "    'classifier__lambda_l1': np.linspace(0, 10, 10),\n",
    "    'classifier__lambda_l2': np.linspace(0, 10, 10),\n",
    "    'classifier__learning_rate': np.linspace(0.01, 0.3, 10),\n",
    "    'classifier__max_depth': list(range(3, 25)),\n",
    "    'classifier__min_child_samples': list(range(5, 101, 5)),\n",
    "    'classifier__n_estimators': [100, 200, 300, 400, 500, 1000],\n",
    "    'classifier__num_leaves': [31, 63, 127, 255],\n",
    "    'classifier__subsample': np.linspace(0.6, 1.0, 10)\n",
    "}\n",
    "\n",
    "# Define the RandomizedSearchCV object\n",
    "random_search = RandomizedSearchCV(\n",
    "    estimator=pipeline,\n",
    "    param_distributions=param_dist,\n",
    "    n_iter=100,  # Number of parameter settings that are sampled\n",
    "    scoring=make_scorer(f1_score),  # Can be adjusted based on your needs\n",
    "    cv=5,  # Number of folds in cross-validation\n",
    "    verbose=1,\n",
    "    random_state=42,\n",
    "    n_jobs=-1  # Number of jobs to run in parallel\n",
    ")\n",
    "\n",
    "with mlflow.start_run():\n",
    "    # Fit the RandomizedSearchCV object to the training data\n",
    "    random_search.fit(X_train, y_train)\n",
    "    # Predictions for test set\n",
    "    y_pred = random_search.predict(X_test)\n",
    "    # Calculate test accuracy\n",
    "    test_accuracy = accuracy_score(y_test, y_pred)\n",
    "    # Calculate test ROC AUC\n",
    "    test_roc_auc = roc_auc_score(y_test, random_search.predict_proba(X_test)[:, 1])\n",
    "    # Log the test, validation, and training scores\n",
    "    mlflow.log_metric(\"test_f1_score\", random_search.score(X_test, y_test))\n",
    "    mlflow.log_metric(\"val_f1_score\", random_search.best_score_)\n",
    "    mlflow.log_metric(\"training_f1_score\", random_search.score(X_train, y_train))\n",
    "    # Log additional metrics\n",
    "    mlflow.log_metric(\"test_accuracy\", test_accuracy)\n",
    "    mlflow.log_metric(\"test_roc_auc\", test_roc_auc)"
   ]
  },
  {
   "cell_type": "code",
   "execution_count": 0,
   "metadata": {
    "application/vnd.databricks.v1+cell": {
     "cellMetadata": {
      "byteLimit": 2048000,
      "rowLimit": 10000
     },
     "inputWidgets": {},
     "nuid": "87e06d76-5001-4131-897a-8353f436dd11",
     "showTitle": false,
     "tableResultSettingsMap": {},
     "title": ""
    }
   },
   "outputs": [
    {
     "data": {
      "text/html": [
       "<style>#sk-container-id-15 {color: black;}#sk-container-id-15 pre{padding: 0;}#sk-container-id-15 div.sk-toggleable {background-color: white;}#sk-container-id-15 label.sk-toggleable__label {cursor: pointer;display: block;width: 100%;margin-bottom: 0;padding: 0.3em;box-sizing: border-box;text-align: center;}#sk-container-id-15 label.sk-toggleable__label-arrow:before {content: \"▸\";float: left;margin-right: 0.25em;color: #696969;}#sk-container-id-15 label.sk-toggleable__label-arrow:hover:before {color: black;}#sk-container-id-15 div.sk-estimator:hover label.sk-toggleable__label-arrow:before {color: black;}#sk-container-id-15 div.sk-toggleable__content {max-height: 0;max-width: 0;overflow: hidden;text-align: left;background-color: #f0f8ff;}#sk-container-id-15 div.sk-toggleable__content pre {margin: 0.2em;color: black;border-radius: 0.25em;background-color: #f0f8ff;}#sk-container-id-15 input.sk-toggleable__control:checked~div.sk-toggleable__content {max-height: 200px;max-width: 100%;overflow: auto;}#sk-container-id-15 input.sk-toggleable__control:checked~label.sk-toggleable__label-arrow:before {content: \"▾\";}#sk-container-id-15 div.sk-estimator input.sk-toggleable__control:checked~label.sk-toggleable__label {background-color: #d4ebff;}#sk-container-id-15 div.sk-label input.sk-toggleable__control:checked~label.sk-toggleable__label {background-color: #d4ebff;}#sk-container-id-15 input.sk-hidden--visually {border: 0;clip: rect(1px 1px 1px 1px);clip: rect(1px, 1px, 1px, 1px);height: 1px;margin: -1px;overflow: hidden;padding: 0;position: absolute;width: 1px;}#sk-container-id-15 div.sk-estimator {font-family: monospace;background-color: #f0f8ff;border: 1px dotted black;border-radius: 0.25em;box-sizing: border-box;margin-bottom: 0.5em;}#sk-container-id-15 div.sk-estimator:hover {background-color: #d4ebff;}#sk-container-id-15 div.sk-parallel-item::after {content: \"\";width: 100%;border-bottom: 1px solid gray;flex-grow: 1;}#sk-container-id-15 div.sk-label:hover label.sk-toggleable__label {background-color: #d4ebff;}#sk-container-id-15 div.sk-serial::before {content: \"\";position: absolute;border-left: 1px solid gray;box-sizing: border-box;top: 0;bottom: 0;left: 50%;z-index: 0;}#sk-container-id-15 div.sk-serial {display: flex;flex-direction: column;align-items: center;background-color: white;padding-right: 0.2em;padding-left: 0.2em;position: relative;}#sk-container-id-15 div.sk-item {position: relative;z-index: 1;}#sk-container-id-15 div.sk-parallel {display: flex;align-items: stretch;justify-content: center;background-color: white;position: relative;}#sk-container-id-15 div.sk-item::before, #sk-container-id-15 div.sk-parallel-item::before {content: \"\";position: absolute;border-left: 1px solid gray;box-sizing: border-box;top: 0;bottom: 0;left: 50%;z-index: -1;}#sk-container-id-15 div.sk-parallel-item {display: flex;flex-direction: column;z-index: 1;position: relative;background-color: white;}#sk-container-id-15 div.sk-parallel-item:first-child::after {align-self: flex-end;width: 50%;}#sk-container-id-15 div.sk-parallel-item:last-child::after {align-self: flex-start;width: 50%;}#sk-container-id-15 div.sk-parallel-item:only-child::after {width: 0;}#sk-container-id-15 div.sk-dashed-wrapped {border: 1px dashed gray;margin: 0 0.4em 0.5em 0.4em;box-sizing: border-box;padding-bottom: 0.4em;background-color: white;}#sk-container-id-15 div.sk-label label {font-family: monospace;font-weight: bold;display: inline-block;line-height: 1.2em;}#sk-container-id-15 div.sk-label-container {text-align: center;}#sk-container-id-15 div.sk-container {/* jupyter's `normalize.less` sets `[hidden] { display: none; }` but bootstrap.min.css set `[hidden] { display: none !important; }` so we also need the `!important` here to be able to override the default hidden behavior on the sphinx rendered scikit-learn.org. See: https://github.com/scikit-learn/scikit-learn/issues/21755 */display: inline-block !important;position: relative;}#sk-container-id-15 div.sk-text-repr-fallback {display: none;}</style><div id=\"sk-container-id-15\" class=\"sk-top-container\"><div class=\"sk-text-repr-fallback\"><pre>Pipeline(steps=[(&#x27;column_selector&#x27;,\n",
       "                 ColumnSelector(cols=[&#x27;CampaignType&#x27;, &#x27;AdSpend&#x27;,\n",
       "                                      &#x27;ClickThroughRate&#x27;, &#x27;ConversionRate&#x27;,\n",
       "                                      &#x27;WebsiteVisits&#x27;, &#x27;PagesPerVisit&#x27;,\n",
       "                                      &#x27;TimeOnSite&#x27;, &#x27;EmailOpens&#x27;, &#x27;EmailClicks&#x27;,\n",
       "                                      &#x27;PreviousPurchases&#x27;, &#x27;LoyaltyPoints&#x27;])),\n",
       "                (&#x27;preprocessor&#x27;,\n",
       "                 ColumnTransformer(remainder=&#x27;passthrough&#x27;, sparse_threshold=0,\n",
       "                                   transformers=[(&#x27;numerical&#x27;,\n",
       "                                                  Pipeline(steps=[(&#x27;...\n",
       "                                                                   StandardScaler())]),\n",
       "                                                  [&#x27;AdSpend&#x27;,\n",
       "                                                   &#x27;ClickThroughRate&#x27;,\n",
       "                                                   &#x27;ConversionRate&#x27;,\n",
       "                                                   &#x27;WebsiteVisits&#x27;,\n",
       "                                                   &#x27;PagesPerVisit&#x27;,\n",
       "                                                   &#x27;TimeOnSite&#x27;, &#x27;EmailOpens&#x27;,\n",
       "                                                   &#x27;EmailClicks&#x27;,\n",
       "                                                   &#x27;PreviousPurchases&#x27;,\n",
       "                                                   &#x27;LoyaltyPoints&#x27;]),\n",
       "                                                 (&#x27;onehot&#x27;,\n",
       "                                                  Pipeline(steps=[(&#x27;imputers&#x27;,\n",
       "                                                                   ColumnTransformer(remainder=&#x27;passthrough&#x27;,\n",
       "                                                                                     transformers=[])),\n",
       "                                                                  (&#x27;one_hot_encoder&#x27;,\n",
       "                                                                   OneHotEncoder())]),\n",
       "                                                  [&#x27;CampaignType&#x27;])])),\n",
       "                (&#x27;classifier&#x27;, LGBMClassifier())])</pre><b>In a Jupyter environment, please rerun this cell to show the HTML representation or trust the notebook. <br />On GitHub, the HTML representation is unable to render, please try loading this page with nbviewer.org.</b></div><div class=\"sk-container\" hidden><div class=\"sk-item sk-dashed-wrapped\"><div class=\"sk-label-container\"><div class=\"sk-label sk-toggleable\"><input class=\"sk-toggleable__control sk-hidden--visually\" id=\"sk-estimator-id-234\" type=\"checkbox\" ><label for=\"sk-estimator-id-234\" class=\"sk-toggleable__label sk-toggleable__label-arrow\">Pipeline</label><div class=\"sk-toggleable__content\"><pre>Pipeline(steps=[(&#x27;column_selector&#x27;,\n",
       "                 ColumnSelector(cols=[&#x27;CampaignType&#x27;, &#x27;AdSpend&#x27;,\n",
       "                                      &#x27;ClickThroughRate&#x27;, &#x27;ConversionRate&#x27;,\n",
       "                                      &#x27;WebsiteVisits&#x27;, &#x27;PagesPerVisit&#x27;,\n",
       "                                      &#x27;TimeOnSite&#x27;, &#x27;EmailOpens&#x27;, &#x27;EmailClicks&#x27;,\n",
       "                                      &#x27;PreviousPurchases&#x27;, &#x27;LoyaltyPoints&#x27;])),\n",
       "                (&#x27;preprocessor&#x27;,\n",
       "                 ColumnTransformer(remainder=&#x27;passthrough&#x27;, sparse_threshold=0,\n",
       "                                   transformers=[(&#x27;numerical&#x27;,\n",
       "                                                  Pipeline(steps=[(&#x27;...\n",
       "                                                                   StandardScaler())]),\n",
       "                                                  [&#x27;AdSpend&#x27;,\n",
       "                                                   &#x27;ClickThroughRate&#x27;,\n",
       "                                                   &#x27;ConversionRate&#x27;,\n",
       "                                                   &#x27;WebsiteVisits&#x27;,\n",
       "                                                   &#x27;PagesPerVisit&#x27;,\n",
       "                                                   &#x27;TimeOnSite&#x27;, &#x27;EmailOpens&#x27;,\n",
       "                                                   &#x27;EmailClicks&#x27;,\n",
       "                                                   &#x27;PreviousPurchases&#x27;,\n",
       "                                                   &#x27;LoyaltyPoints&#x27;]),\n",
       "                                                 (&#x27;onehot&#x27;,\n",
       "                                                  Pipeline(steps=[(&#x27;imputers&#x27;,\n",
       "                                                                   ColumnTransformer(remainder=&#x27;passthrough&#x27;,\n",
       "                                                                                     transformers=[])),\n",
       "                                                                  (&#x27;one_hot_encoder&#x27;,\n",
       "                                                                   OneHotEncoder())]),\n",
       "                                                  [&#x27;CampaignType&#x27;])])),\n",
       "                (&#x27;classifier&#x27;, LGBMClassifier())])</pre></div></div></div><div class=\"sk-serial\"><div class=\"sk-item\"><div class=\"sk-estimator sk-toggleable\"><input class=\"sk-toggleable__control sk-hidden--visually\" id=\"sk-estimator-id-235\" type=\"checkbox\" ><label for=\"sk-estimator-id-235\" class=\"sk-toggleable__label sk-toggleable__label-arrow\">ColumnSelector</label><div class=\"sk-toggleable__content\"><pre>ColumnSelector(cols=[&#x27;CampaignType&#x27;, &#x27;AdSpend&#x27;, &#x27;ClickThroughRate&#x27;,\n",
       "                     &#x27;ConversionRate&#x27;, &#x27;WebsiteVisits&#x27;, &#x27;PagesPerVisit&#x27;,\n",
       "                     &#x27;TimeOnSite&#x27;, &#x27;EmailOpens&#x27;, &#x27;EmailClicks&#x27;,\n",
       "                     &#x27;PreviousPurchases&#x27;, &#x27;LoyaltyPoints&#x27;])</pre></div></div></div><div class=\"sk-item sk-dashed-wrapped\"><div class=\"sk-label-container\"><div class=\"sk-label sk-toggleable\"><input class=\"sk-toggleable__control sk-hidden--visually\" id=\"sk-estimator-id-236\" type=\"checkbox\" ><label for=\"sk-estimator-id-236\" class=\"sk-toggleable__label sk-toggleable__label-arrow\">preprocessor: ColumnTransformer</label><div class=\"sk-toggleable__content\"><pre>ColumnTransformer(remainder=&#x27;passthrough&#x27;, sparse_threshold=0,\n",
       "                  transformers=[(&#x27;numerical&#x27;,\n",
       "                                 Pipeline(steps=[(&#x27;converter&#x27;,\n",
       "                                                  FunctionTransformer(func=&lt;function &lt;lambda&gt; at 0x7f561f8fdf80&gt;)),\n",
       "                                                 (&#x27;imputers&#x27;,\n",
       "                                                  ColumnTransformer(transformers=[(&#x27;impute_mean&#x27;,\n",
       "                                                                                   SimpleImputer(),\n",
       "                                                                                   [&#x27;AdSpend&#x27;,\n",
       "                                                                                    &#x27;ClickThroughRate&#x27;,\n",
       "                                                                                    &#x27;ConversionRate&#x27;,\n",
       "                                                                                    &#x27;WebsiteVisits&#x27;,\n",
       "                                                                                    &#x27;PagesPerVisit&#x27;,\n",
       "                                                                                    &#x27;TimeOnSite&#x27;,\n",
       "                                                                                    &#x27;Ema...\n",
       "                                                                                    &#x27;LoyaltyPoints&#x27;])])),\n",
       "                                                 (&#x27;standardizer&#x27;,\n",
       "                                                  StandardScaler())]),\n",
       "                                 [&#x27;AdSpend&#x27;, &#x27;ClickThroughRate&#x27;,\n",
       "                                  &#x27;ConversionRate&#x27;, &#x27;WebsiteVisits&#x27;,\n",
       "                                  &#x27;PagesPerVisit&#x27;, &#x27;TimeOnSite&#x27;, &#x27;EmailOpens&#x27;,\n",
       "                                  &#x27;EmailClicks&#x27;, &#x27;PreviousPurchases&#x27;,\n",
       "                                  &#x27;LoyaltyPoints&#x27;]),\n",
       "                                (&#x27;onehot&#x27;,\n",
       "                                 Pipeline(steps=[(&#x27;imputers&#x27;,\n",
       "                                                  ColumnTransformer(remainder=&#x27;passthrough&#x27;,\n",
       "                                                                    transformers=[])),\n",
       "                                                 (&#x27;one_hot_encoder&#x27;,\n",
       "                                                  OneHotEncoder())]),\n",
       "                                 [&#x27;CampaignType&#x27;])])</pre></div></div></div><div class=\"sk-parallel\"><div class=\"sk-parallel-item\"><div class=\"sk-item\"><div class=\"sk-label-container\"><div class=\"sk-label sk-toggleable\"><input class=\"sk-toggleable__control sk-hidden--visually\" id=\"sk-estimator-id-237\" type=\"checkbox\" ><label for=\"sk-estimator-id-237\" class=\"sk-toggleable__label sk-toggleable__label-arrow\">numerical</label><div class=\"sk-toggleable__content\"><pre>[&#x27;AdSpend&#x27;, &#x27;ClickThroughRate&#x27;, &#x27;ConversionRate&#x27;, &#x27;WebsiteVisits&#x27;, &#x27;PagesPerVisit&#x27;, &#x27;TimeOnSite&#x27;, &#x27;EmailOpens&#x27;, &#x27;EmailClicks&#x27;, &#x27;PreviousPurchases&#x27;, &#x27;LoyaltyPoints&#x27;]</pre></div></div></div><div class=\"sk-serial\"><div class=\"sk-item\"><div class=\"sk-serial\"><div class=\"sk-item\"><div class=\"sk-estimator sk-toggleable\"><input class=\"sk-toggleable__control sk-hidden--visually\" id=\"sk-estimator-id-238\" type=\"checkbox\" ><label for=\"sk-estimator-id-238\" class=\"sk-toggleable__label sk-toggleable__label-arrow\">FunctionTransformer</label><div class=\"sk-toggleable__content\"><pre>FunctionTransformer(func=&lt;function &lt;lambda&gt; at 0x7f561f8fdf80&gt;)</pre></div></div></div><div class=\"sk-item sk-dashed-wrapped\"><div class=\"sk-label-container\"><div class=\"sk-label sk-toggleable\"><input class=\"sk-toggleable__control sk-hidden--visually\" id=\"sk-estimator-id-239\" type=\"checkbox\" ><label for=\"sk-estimator-id-239\" class=\"sk-toggleable__label sk-toggleable__label-arrow\">imputers: ColumnTransformer</label><div class=\"sk-toggleable__content\"><pre>ColumnTransformer(transformers=[(&#x27;impute_mean&#x27;, SimpleImputer(),\n",
       "                                 [&#x27;AdSpend&#x27;, &#x27;ClickThroughRate&#x27;,\n",
       "                                  &#x27;ConversionRate&#x27;, &#x27;WebsiteVisits&#x27;,\n",
       "                                  &#x27;PagesPerVisit&#x27;, &#x27;TimeOnSite&#x27;, &#x27;EmailOpens&#x27;,\n",
       "                                  &#x27;EmailClicks&#x27;, &#x27;PreviousPurchases&#x27;,\n",
       "                                  &#x27;LoyaltyPoints&#x27;])])</pre></div></div></div><div class=\"sk-parallel\"><div class=\"sk-parallel-item\"><div class=\"sk-item\"><div class=\"sk-label-container\"><div class=\"sk-label sk-toggleable\"><input class=\"sk-toggleable__control sk-hidden--visually\" id=\"sk-estimator-id-240\" type=\"checkbox\" ><label for=\"sk-estimator-id-240\" class=\"sk-toggleable__label sk-toggleable__label-arrow\">impute_mean</label><div class=\"sk-toggleable__content\"><pre>[&#x27;AdSpend&#x27;, &#x27;ClickThroughRate&#x27;, &#x27;ConversionRate&#x27;, &#x27;WebsiteVisits&#x27;, &#x27;PagesPerVisit&#x27;, &#x27;TimeOnSite&#x27;, &#x27;EmailOpens&#x27;, &#x27;EmailClicks&#x27;, &#x27;PreviousPurchases&#x27;, &#x27;LoyaltyPoints&#x27;]</pre></div></div></div><div class=\"sk-serial\"><div class=\"sk-item\"><div class=\"sk-estimator sk-toggleable\"><input class=\"sk-toggleable__control sk-hidden--visually\" id=\"sk-estimator-id-241\" type=\"checkbox\" ><label for=\"sk-estimator-id-241\" class=\"sk-toggleable__label sk-toggleable__label-arrow\">SimpleImputer</label><div class=\"sk-toggleable__content\"><pre>SimpleImputer()</pre></div></div></div></div></div></div></div></div><div class=\"sk-item\"><div class=\"sk-estimator sk-toggleable\"><input class=\"sk-toggleable__control sk-hidden--visually\" id=\"sk-estimator-id-242\" type=\"checkbox\" ><label for=\"sk-estimator-id-242\" class=\"sk-toggleable__label sk-toggleable__label-arrow\">StandardScaler</label><div class=\"sk-toggleable__content\"><pre>StandardScaler()</pre></div></div></div></div></div></div></div></div><div class=\"sk-parallel-item\"><div class=\"sk-item\"><div class=\"sk-label-container\"><div class=\"sk-label sk-toggleable\"><input class=\"sk-toggleable__control sk-hidden--visually\" id=\"sk-estimator-id-243\" type=\"checkbox\" ><label for=\"sk-estimator-id-243\" class=\"sk-toggleable__label sk-toggleable__label-arrow\">onehot</label><div class=\"sk-toggleable__content\"><pre>[&#x27;CampaignType&#x27;]</pre></div></div></div><div class=\"sk-serial\"><div class=\"sk-item\"><div class=\"sk-serial\"><div class=\"sk-item sk-dashed-wrapped\"><div class=\"sk-label-container\"><div class=\"sk-label sk-toggleable\"><input class=\"sk-toggleable__control sk-hidden--visually\" id=\"sk-estimator-id-244\" type=\"checkbox\" ><label for=\"sk-estimator-id-244\" class=\"sk-toggleable__label sk-toggleable__label-arrow\">imputers: ColumnTransformer</label><div class=\"sk-toggleable__content\"><pre>ColumnTransformer(remainder=&#x27;passthrough&#x27;, transformers=[])</pre></div></div></div><div class=\"sk-parallel\"><div class=\"sk-parallel-item\"><div class=\"sk-item\"><div class=\"sk-label-container\"><div class=\"sk-label sk-toggleable\"><input class=\"sk-toggleable__control sk-hidden--visually\" id=\"sk-estimator-id-245\" type=\"checkbox\" ><label for=\"sk-estimator-id-245\" class=\"sk-toggleable__label sk-toggleable__label-arrow\">remainder</label><div class=\"sk-toggleable__content\"><pre></pre></div></div></div><div class=\"sk-serial\"><div class=\"sk-item\"><div class=\"sk-estimator sk-toggleable\"><input class=\"sk-toggleable__control sk-hidden--visually\" id=\"sk-estimator-id-246\" type=\"checkbox\" ><label for=\"sk-estimator-id-246\" class=\"sk-toggleable__label sk-toggleable__label-arrow\">passthrough</label><div class=\"sk-toggleable__content\"><pre>passthrough</pre></div></div></div></div></div></div></div></div><div class=\"sk-item\"><div class=\"sk-estimator sk-toggleable\"><input class=\"sk-toggleable__control sk-hidden--visually\" id=\"sk-estimator-id-247\" type=\"checkbox\" ><label for=\"sk-estimator-id-247\" class=\"sk-toggleable__label sk-toggleable__label-arrow\">OneHotEncoder</label><div class=\"sk-toggleable__content\"><pre>OneHotEncoder()</pre></div></div></div></div></div></div></div></div><div class=\"sk-parallel-item\"><div class=\"sk-item\"><div class=\"sk-label-container\"><div class=\"sk-label sk-toggleable\"><input class=\"sk-toggleable__control sk-hidden--visually\" id=\"sk-estimator-id-248\" type=\"checkbox\" ><label for=\"sk-estimator-id-248\" class=\"sk-toggleable__label sk-toggleable__label-arrow\">remainder</label><div class=\"sk-toggleable__content\"><pre>[]</pre></div></div></div><div class=\"sk-serial\"><div class=\"sk-item\"><div class=\"sk-estimator sk-toggleable\"><input class=\"sk-toggleable__control sk-hidden--visually\" id=\"sk-estimator-id-249\" type=\"checkbox\" ><label for=\"sk-estimator-id-249\" class=\"sk-toggleable__label sk-toggleable__label-arrow\">passthrough</label><div class=\"sk-toggleable__content\"><pre>passthrough</pre></div></div></div></div></div></div></div></div><div class=\"sk-item\"><div class=\"sk-estimator sk-toggleable\"><input class=\"sk-toggleable__control sk-hidden--visually\" id=\"sk-estimator-id-250\" type=\"checkbox\" ><label for=\"sk-estimator-id-250\" class=\"sk-toggleable__label sk-toggleable__label-arrow\">LGBMClassifier</label><div class=\"sk-toggleable__content\"><pre>LGBMClassifier()</pre></div></div></div></div></div></div></div>"
      ],
      "text/plain": [
       "Pipeline(steps=[('column_selector',\n",
       "                 ColumnSelector(cols=['CampaignType', 'AdSpend',\n",
       "                                      'ClickThroughRate', 'ConversionRate',\n",
       "                                      'WebsiteVisits', 'PagesPerVisit',\n",
       "                                      'TimeOnSite', 'EmailOpens', 'EmailClicks',\n",
       "                                      'PreviousPurchases', 'LoyaltyPoints'])),\n",
       "                ('preprocessor',\n",
       "                 ColumnTransformer(remainder='passthrough', sparse_threshold=0,\n",
       "                                   transformers=[('numerical',\n",
       "                                                  Pipeline(steps=[('...\n",
       "                                                                   StandardScaler())]),\n",
       "                                                  ['AdSpend',\n",
       "                                                   'ClickThroughRate',\n",
       "                                                   'ConversionRate',\n",
       "                                                   'WebsiteVisits',\n",
       "                                                   'PagesPerVisit',\n",
       "                                                   'TimeOnSite', 'EmailOpens',\n",
       "                                                   'EmailClicks',\n",
       "                                                   'PreviousPurchases',\n",
       "                                                   'LoyaltyPoints']),\n",
       "                                                 ('onehot',\n",
       "                                                  Pipeline(steps=[('imputers',\n",
       "                                                                   ColumnTransformer(remainder='passthrough',\n",
       "                                                                                     transformers=[])),\n",
       "                                                                  ('one_hot_encoder',\n",
       "                                                                   OneHotEncoder())]),\n",
       "                                                  ['CampaignType'])])),\n",
       "                ('classifier', LGBMClassifier())])"
      ]
     },
     "execution_count": 203,
     "metadata": {},
     "output_type": "execute_result"
    }
   ],
   "source": [
    "pipeline"
   ]
  },
  {
   "cell_type": "markdown",
   "metadata": {
    "application/vnd.databricks.v1+cell": {
     "cellMetadata": {},
     "inputWidgets": {},
     "nuid": "b92a7143-02b2-4b50-860a-b5783ee2839e",
     "showTitle": false,
     "tableResultSettingsMap": {},
     "title": ""
    }
   },
   "source": [
    "**Model 2**"
   ]
  },
  {
   "cell_type": "code",
   "execution_count": null,
   "metadata": {
    "application/vnd.databricks.v1+cell": {
     "cellMetadata": {
      "byteLimit": 2048000,
      "rowLimit": 10000
     },
     "inputWidgets": {},
     "nuid": "0652b440-b24e-496c-874e-1e0792485d21",
     "showTitle": false,
     "tableResultSettingsMap": {},
     "title": ""
    }
   },
   "outputs": [],
   "source": [
    "mlflow.sklearn.autolog()\n",
    "# Assuming col_selector and preprocessor are defined earlier in your code\n",
    "\n",
    "# Define your pipeline with SMOTEENN\n",
    "pipeline = ImbPipeline([\n",
    "    (\"column_selector\", col_selector),\n",
    "    (\"preprocessor\", preprocessor),\n",
    "    (\"smoteenn\", SMOTEENN(random_state=42)),\n",
    "    (\"classifier\", LGBMClassifier()),\n",
    "])\n",
    "\n",
    "param_dist = {\n",
    "    'classifier__colsample_bytree': [0.5, 0.75, 1.0],\n",
    "    'classifier__lambda_l1': np.linspace(0, 10, 10),\n",
    "    'classifier__lambda_l2': np.linspace(0, 10, 10),\n",
    "    'classifier__learning_rate': np.linspace(0.01, 0.3, 10),\n",
    "    'classifier__max_depth': list(range(3, 25)),\n",
    "    'classifier__min_child_samples': list(range(5, 101, 5)),\n",
    "    'classifier__n_estimators': [100, 200, 300, 400, 500, 1000],\n",
    "    'classifier__num_leaves': [31, 63, 127, 255],\n",
    "    'classifier__subsample': np.linspace(0.6, 1.0, 10)\n",
    "}\n",
    "\n",
    "# Define the RandomizedSearchCV object\n",
    "random_search = RandomizedSearchCV(\n",
    "    estimator=pipeline,\n",
    "    param_distributions=param_dist,\n",
    "    n_iter=100,  # Number of parameter settings that are sampled\n",
    "    scoring=make_scorer(f1_score),  # Can be adjusted based on your needs\n",
    "    cv=5,  # Number of folds in cross-validation\n",
    "    verbose=1,\n",
    "    random_state=42,\n",
    "    n_jobs=-1  # Number of jobs to run in parallel\n",
    ")\n",
    "\n",
    "with mlflow.start_run():\n",
    "    # Fit the RandomizedSearchCV object to the training data\n",
    "    random_search.fit(X_train, y_train)\n",
    "    # Predictions for test set\n",
    "    y_pred = random_search.predict(X_test)\n",
    "    # Calculate test accuracy\n",
    "    test_accuracy = accuracy_score(y_test, y_pred)\n",
    "    # Calculate test ROC AUC\n",
    "    test_roc_auc = roc_auc_score(y_test, random_search.predict_proba(X_test)[:, 1])\n",
    "    # Log the test, validation, and training scores\n",
    "    mlflow.log_metric(\"test_f1_score\", random_search.score(X_test, y_test))\n",
    "    mlflow.log_metric(\"val_f1_score\", random_search.best_score_)\n",
    "    mlflow.log_metric(\"training_f1_score\", random_search.score(X_train, y_train))\n",
    "    # Log additional metrics\n",
    "    mlflow.log_metric(\"test_accuracy\", test_accuracy)\n",
    "    mlflow.log_metric(\"test_roc_auc\", test_roc_auc)"
   ]
  },
  {
   "cell_type": "markdown",
   "metadata": {
    "application/vnd.databricks.v1+cell": {
     "cellMetadata": {},
     "inputWidgets": {},
     "nuid": "441f2421-1f0d-48b7-ac73-4007e00d92d6",
     "showTitle": false,
     "tableResultSettingsMap": {},
     "title": ""
    }
   },
   "source": [
    "**Model 1 Results**"
   ]
  },
  {
   "cell_type": "code",
   "execution_count": 0,
   "metadata": {
    "application/vnd.databricks.v1+cell": {
     "cellMetadata": {
      "byteLimit": 2048000,
      "rowLimit": 10000
     },
     "inputWidgets": {},
     "nuid": "ae5cb907-fd29-4759-b5d9-cac10959098f",
     "showTitle": false,
     "tableResultSettingsMap": {},
     "title": ""
    }
   },
   "outputs": [
    {
     "data": {
      "application/vnd.jupyter.widget-view+json": {
       "model_id": "450a38d1e50144edbd46dd60fa281c56",
       "version_major": 2,
       "version_minor": 0
      },
      "text/plain": [
       "Downloading artifacts:   0%|          | 0/9 [00:00<?, ?it/s]"
      ]
     },
     "metadata": {},
     "output_type": "display_data"
    },
    {
     "name": "stdout",
     "output_type": "stream",
     "text": [
      "[LightGBM] [Warning] lambda_l2 is set=8.88888888888889, reg_lambda=0.0 will be ignored. Current value: lambda_l2=8.88888888888889\n",
      "[LightGBM] [Warning] lambda_l1 is set=5.555555555555555, reg_alpha=0.0 will be ignored. Current value: lambda_l1=5.555555555555555\n"
     ]
    },
    {
     "data": {
      "text/plain": [
       "<sklearn.metrics._plot.confusion_matrix.ConfusionMatrixDisplay at 0x7f5605c32690>"
      ]
     },
     "execution_count": 241,
     "metadata": {},
     "output_type": "execute_result"
    },
    {
     "data": {
      "image/png": "[encoded data removed]",
      "text/plain": [
       "<Figure size 640x480 with 2 Axes>"
      ]
     },
     "metadata": {},
     "output_type": "display_data"
    }
   ],
   "source": [
    "# Load the best model from the first MLflow experiment\n",
    "best_model_uri = mlflow.search_runs(order_by=[\"metrics.test_f1_score DESC\"]).iloc[0][\"artifact_uri\"] + \"/model\"\n",
    "best_model = mlflow.sklearn.load_model(best_model_uri)\n",
    "\n",
    "# Use the best model to predict\n",
    "y_pred_best_model = best_model.predict(X_test)\n",
    "\n",
    "\n",
    "# Calculate the confusion matrix\n",
    "cm = confusion_matrix(y_test, y_pred_best_model)\n",
    "\n",
    "# Display the confusion matrix\n",
    "cmd = ConfusionMatrixDisplay(cm, display_labels=best_model.classes_)\n",
    "cmd.plot()"
   ]
  },
  {
   "cell_type": "markdown",
   "metadata": {
    "application/vnd.databricks.v1+cell": {
     "cellMetadata": {
      "byteLimit": 2048000,
      "rowLimit": 10000
     },
     "inputWidgets": {},
     "nuid": "e1637b11-1f64-4a5b-857d-863444c0a660",
     "showTitle": false,
     "tableResultSettingsMap": {},
     "title": ""
    }
   },
   "source": [
    "**Model 2 Results**"
   ]
  },
  {
   "cell_type": "code",
   "execution_count": 0,
   "metadata": {
    "application/vnd.databricks.v1+cell": {
     "cellMetadata": {
      "byteLimit": 2048000,
      "rowLimit": 10000
     },
     "inputWidgets": {},
     "nuid": "e9964887-b562-4e0d-96be-bd782f2dc5dd",
     "showTitle": false,
     "tableResultSettingsMap": {},
     "title": ""
    }
   },
   "outputs": [
    {
     "data": {
      "application/vnd.jupyter.widget-view+json": {
       "model_id": "22b559c582374c2082ddb94098540364",
       "version_major": 2,
       "version_minor": 0
      },
      "text/plain": [
       "Downloading artifacts:   0%|          | 0/9 [00:00<?, ?it/s]"
      ]
     },
     "metadata": {},
     "output_type": "display_data"
    },
    {
     "name": "stdout",
     "output_type": "stream",
     "text": [
      "[LightGBM] [Warning] lambda_l2 is set=3.3333333333333335, reg_lambda=0.0 will be ignored. Current value: lambda_l2=3.3333333333333335\n",
      "[LightGBM] [Warning] lambda_l1 is set=0.0, reg_alpha=0.0 will be ignored. Current value: lambda_l1=0.0\n",
      "[LightGBM] [Warning] Accuracy may be bad since you didn't explicitly set num_leaves OR 2^max_depth > num_leaves. (num_leaves=31).\n"
     ]
    },
    {
     "data": {
      "text/plain": [
       "<sklearn.metrics._plot.confusion_matrix.ConfusionMatrixDisplay at 0x7f5599e7dbd0>"
      ]
     },
     "execution_count": 253,
     "metadata": {},
     "output_type": "execute_result"
    },
    {
     "data": {
      "image/png": "[encoded data removed]",
      "text/plain": [
       "<Figure size 640x480 with 2 Axes>"
      ]
     },
     "metadata": {},
     "output_type": "display_data"
    }
   ],
   "source": [
    "run_id = \"5b40e1a4c7944d848e9e4b5948805ac5\"\n",
    "model_uri = f\"runs:/{run_id}/model\"\n",
    "\n",
    "# Load the model\n",
    "model = mlflow.pyfunc.load_model(model_uri)\n",
    "\n",
    "# Assuming 'X_test' is your features dataset ready for prediction\n",
    "predictions = model.predict(X_test)\n",
    "\n",
    "# Calculate the confusion matrix\n",
    "cm = confusion_matrix(y_test, predictions)\n",
    "\n",
    "# Display the confusion matrix\n",
    "cmd = ConfusionMatrixDisplay(cm, display_labels=best_model.classes_)\n",
    "cmd.plot()"
   ]
  },
  {
   "cell_type": "markdown",
   "metadata": {
    "application/vnd.databricks.v1+cell": {
     "cellMetadata": {},
     "inputWidgets": {},
     "nuid": "adee6955-fa45-4b07-9f97-ac44c0abfdcd",
     "showTitle": false,
     "tableResultSettingsMap": {},
     "title": ""
    }
   },
   "source": [
    "**AutoML Model Results**"
   ]
  },
  {
   "cell_type": "code",
   "execution_count": 0,
   "metadata": {
    "application/vnd.databricks.v1+cell": {
     "cellMetadata": {
      "byteLimit": 2048000,
      "rowLimit": 10000
     },
     "inputWidgets": {},
     "nuid": "18933ec2-9848-4f6c-99c0-2e178e2d7568",
     "showTitle": false,
     "tableResultSettingsMap": {},
     "title": ""
    }
   },
   "outputs": [
    {
     "data": {
      "application/vnd.jupyter.widget-view+json": {
       "model_id": "3a539462719f463d9f2d597da97846cc",
       "version_major": 2,
       "version_minor": 0
      },
      "text/plain": [
       "Downloading artifacts:   0%|          | 0/11 [00:00<?, ?it/s]"
      ]
     },
     "metadata": {},
     "output_type": "display_data"
    },
    {
     "name": "stdout",
     "output_type": "stream",
     "text": [
      "[LightGBM] [Warning] lambda_l2 is set=11.560017805648627, reg_lambda=0.0 will be ignored. Current value: lambda_l2=11.560017805648627\n",
      "[LightGBM] [Warning] lambda_l1 is set=0.2892876799108943, reg_alpha=0.0 will be ignored. Current value: lambda_l1=0.2892876799108943\n"
     ]
    },
    {
     "data": {
      "text/plain": [
       "<sklearn.metrics._plot.confusion_matrix.ConfusionMatrixDisplay at 0x7f56106182d0>"
      ]
     },
     "execution_count": 255,
     "metadata": {},
     "output_type": "execute_result"
    },
    {
     "data": {
      "image/png": "[encoded data removed]",
      "text/plain": [
       "<Figure size 640x480 with 2 Axes>"
      ]
     },
     "metadata": {},
     "output_type": "display_data"
    }
   ],
   "source": [
    "run_id = \"039a2debf5f14d8984c8f9e19adfd998\"\n",
    "model_uri = f\"runs:/{run_id}/model\"\n",
    "\n",
    "# Load the model\n",
    "model = mlflow.pyfunc.load_model(model_uri)\n",
    "\n",
    "# Assuming 'X_test' is your features dataset ready for prediction\n",
    "predictions = model.predict(X_test)\n",
    "\n",
    "# Calculate the confusion matrix\n",
    "cm = confusion_matrix(y_test, predictions)\n",
    "\n",
    "# Display the confusion matrix\n",
    "cmd = ConfusionMatrixDisplay(cm, display_labels=best_model.classes_)\n",
    "cmd.plot()"
   ]
  }
 ],
 "metadata": {
  "application/vnd.databricks.v1+notebook": {
   "dashboards": [],
   "environmentMetadata": null,
   "language": "python",
   "notebookMetadata": {
    "pythonIndentUnit": 4
   },
   "notebookName": "Digital Marketing EDA, Modelling, Pipeline (1)",
   "widgets": {}
  },
  "kernelspec": {
   "display_name": "Python 3 (ipykernel)",
   "language": "python",
   "name": "python3"
  },
  "language_info": {
   "codemirror_mode": {
    "name": "ipython",
    "version": 3
   },
   "file_extension": ".py",
   "mimetype": "text/x-python",
   "name": "python",
   "nbconvert_exporter": "python",
   "pygments_lexer": "ipython3",
   "version": "3.11.8"
  }
 },
 "nbformat": 4,
 "nbformat_minor": 1
}
